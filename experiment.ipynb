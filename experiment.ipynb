{
 "cells": [
  {
   "cell_type": "code",
   "execution_count": 1,
   "metadata": {},
   "outputs": [],
   "source": [
    "from src.Reasoning import *"
   ]
  },
  {
   "cell_type": "code",
   "execution_count": 2,
   "metadata": {},
   "outputs": [
    {
     "name": "stdout",
     "output_type": "stream",
     "text": [
      "[GreedyCover] Step 1: 选属性 a5, 覆盖 31 对, 剩余 14 对。\n",
      "[GreedyCover] Step 2: 选属性 a4, 覆盖 8 对, 剩余 6 对。\n",
      "[GreedyCover] Step 3: 选属性 a3, 覆盖 2 对, 剩余 4 对。\n",
      "[GreedyCover] Step 4: 选属性 a6, 覆盖 2 对, 剩余 2 对。\n",
      "[GreedyCover] Step 5: 无法继续覆盖, 剩余对2.\n",
      "[Refine] Round 1: 删除冗余属性 a5\n"
     ]
    },
    {
     "data": {
      "text/plain": [
       "{'a1', 'a2', 'a3', 'a4', 'a6'}"
      ]
     },
     "execution_count": 2,
     "metadata": {},
     "output_type": "execute_result"
    }
   ],
   "source": [
    "objects = ['x1', 'x2', 'x3', 'x4', 'x5', 'x6', 'x7', 'x8', 'x9', 'x10']\n",
    "attributes = ['a1', 'a2', 'a3', 'a4', 'a5', 'a6', 'a7', 'a8', 'a9']\n",
    "decision = 'd'\n",
    "\n",
    "data = {\n",
    "    'x1': {'a1': 2, 'a2': 2, 'a3': 0, 'a4': 0, 'a5': 1, 'a6': 0, 'a7': 1, 'a8': 0, 'a9': 0, 'd': '故障1'},\n",
    "    'x2': {'a1': 0, 'a2': 1, 'a3': 0, 'a4': 1, 'a5': 0, 'a6': 0, 'a7': 0, 'a8': 2, 'a9': 0, 'd': '故障2'},\n",
    "    'x3': {'a1': 0, 'a2': 2, 'a3': 0, 'a4': 0, 'a5': 1, 'a6': 0, 'a7': 1, 'a8': 0, 'a9': 0, 'd': '故障3'},\n",
    "    'x4': {'a1': 0, 'a2': 0, 'a3': 0, 'a4': 0, 'a5': 2, 'a6': 2, 'a7': 2, 'a8': 2, 'a9': 0, 'd': '故障4'},\n",
    "    'x5': {'a1': 0, 'a2': 0, 'a3': 0, 'a4': 2, 'a5': 0, 'a6': 0, 'a7': 0, 'a8': 0, 'a9': 2, 'd': '故障5'},\n",
    "    'x6': {'a1': 0, 'a2': 2, 'a3': 2, 'a4': 0, 'a5': 1, 'a6': 0, 'a7': 0, 'a8': 0, 'a9': 0, 'd': '故障6'},\n",
    "    'x7': {'a1': 0, 'a2': 0, 'a3': 0, 'a4': 0, 'a5': 2, 'a6': 0, 'a7': 2, 'a8': 0, 'a9': 0, 'd': '故障7'},\n",
    "    'x8': {'a1': 0, 'a2': 0, 'a3': 0, 'a4': 1, 'a5': 2, 'a6': 0, 'a7': 2, 'a8': 2, 'a9': 0, 'd': '故障8'},\n",
    "    'x9': {'a1': 0, 'a2': 1, 'a3': 0, 'a4': 0, 'a5': 2, 'a6': 2, 'a7': 2, 'a8': 2, 'a9': 0, 'd': '故障9'},\n",
    "    'x10': {'a1': 0, 'a2': 1, 'a3': 0, 'a4': 2, 'a5': 2, 'a6': 0, 'a7': 2, 'a8': 0, 'a9': 0, 'd': '故障10'},\n",
    "}\n",
    "intensity = {\n",
    "    'a1': [0.90, 0, 0, 0, 0, 0, 0, 0, 0, 0],\n",
    "    'a2': [0.818, 0.219, 0.713, 0, 0, 0.674, 0, 0, 0.149, 0.20],\n",
    "    'a3': [0, 0, 0, 0, 0, 0.87, 0, 0, 0, 0],\n",
    "    'a4': [0, 0.267, 0, 0, 0.718, 0, 0, 0.416, 0, 0.6],\n",
    "    'a5': [0.189, 0, 0.289, 0.515, 0, 0.231, 0.863, 0.879, 0.681, 0.7],\n",
    "    'a6': [0, 0, 0, 0.80, 0, 0, 0, 0, 0.80, 0],\n",
    "    'a7': [0.30, 0, 0.35, 0.90, 0, 0, 0.90, 0.90, 0.75, 0.90],\n",
    "    'a8': [0, 0.816, 0, 0.681, 0, 0, 0, 0.759, 0.721, 0],\n",
    "    'a9': [0, 0, 0, 0, 0.75, 0, 0, 0, 0, 0]\n",
    "}\n",
    "dec_table = DecisionTable(objects, attributes, decision, data, intensity)\n",
    "disc_matrix = DiscernibilityMatrix(dec_table)\n",
    "\n",
    "mini_set = get_greedy_cover(disc_matrix)\n",
    "mini_set = refine_cover(mini_set, disc_matrix)\n",
    "mini_set"
   ]
  },
  {
   "cell_type": "code",
   "execution_count": 3,
   "metadata": {},
   "outputs": [
    {
     "name": "stdout",
     "output_type": "stream",
     "text": [
      "[GreedyCover] Step 1: 选属性 a5, 覆盖 31 对, 剩余 14 对。\n",
      "[GreedyCover] Step 2: 选属性 a4, 覆盖 8 对, 剩余 6 对。\n",
      "[GreedyCover] Step 3: 选属性 a3, 覆盖 2 对, 剩余 4 对。\n",
      "[GreedyCover] Step 4: 选属性 a6, 覆盖 2 对, 剩余 2 对。\n",
      "[GreedyCover] Step 5: 无法继续覆盖, 剩余对2.\n",
      "[Refine] Round 1: 删除冗余属性 a5\n"
     ]
    },
    {
     "data": {
      "text/plain": [
       "array([0.0186, 0.0085, 0.0448, 0.    , 0.    , 0.0115, 0.    , 0.    ,\n",
       "       0.0036, 0.0057])"
      ]
     },
     "execution_count": 3,
     "metadata": {},
     "output_type": "execute_result"
    }
   ],
   "source": [
    "known_attr = {'a2'}\n",
    "prior_prob = np.array([0.2271, 0.0527, 0.0629, 0.0612, 0.0506, 0.1317, 0.0798, 0.1421, 0.1202, 0.0717])\n",
    "\n",
    "reasoning_bn(disc_matrix, known_attr, prior_prob)"
   ]
  }
 ],
 "metadata": {
  "kernelspec": {
   "display_name": "deep_learning",
   "language": "python",
   "name": "python3"
  },
  "language_info": {
   "codemirror_mode": {
    "name": "ipython",
    "version": 3
   },
   "file_extension": ".py",
   "mimetype": "text/x-python",
   "name": "python",
   "nbconvert_exporter": "python",
   "pygments_lexer": "ipython3",
   "version": "3.9.20"
  }
 },
 "nbformat": 4,
 "nbformat_minor": 2
}
