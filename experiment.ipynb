{
 "cells": [
  {
   "cell_type": "code",
   "execution_count": 1,
   "metadata": {},
   "outputs": [],
   "source": [
    "import numpy as np"
   ]
  },
  {
   "cell_type": "code",
   "execution_count": 9,
   "metadata": {},
   "outputs": [
    {
     "data": {
      "text/plain": [
       "array([[2, 2, 0, 0, 1, 0, 1, 0, 0],\n",
       "       [0, 1, 0, 1, 0, 0, 0, 2, 0],\n",
       "       [0, 2, 0, 0, 1, 0, 1, 0, 0],\n",
       "       [0, 0, 0, 0, 2, 2, 2, 2, 0],\n",
       "       [0, 0, 0, 2, 0, 0, 0, 0, 2],\n",
       "       [0, 2, 2, 0, 1, 0, 0, 0, 0],\n",
       "       [0, 0, 0, 0, 2, 0, 2, 0, 0],\n",
       "       [0, 0, 0, 1, 2, 0, 2, 2, 0],\n",
       "       [0, 1, 0, 0, 2, 2, 2, 2, 0],\n",
       "       [0, 1, 0, 2, 2, 0, 2, 0, 0]])"
      ]
     },
     "execution_count": 9,
     "metadata": {},
     "output_type": "execute_result"
    }
   ],
   "source": [
    "matrix = np.array([\n",
    "    [2, 2, 0, 0, 1, 0, 1, 0, 0],\n",
    "    [0, 1, 0, 1, 0, 0, 0, 2, 0],\n",
    "    [0, 2, 0, 0, 1, 0, 1, 0, 0],\n",
    "    [0, 0, 0, 0, 2, 2, 2, 2, 0],\n",
    "    [0, 0, 0, 2, 0, 0, 0, 0, 2],\n",
    "    [0, 2, 2, 0, 1, 0, 0, 0, 0],\n",
    "    [0, 0, 0, 0, 2, 0, 2, 0, 0],\n",
    "    [0, 0, 0, 1, 2, 0, 2, 2, 0],\n",
    "    [0, 1, 0, 0, 2, 2, 2, 2, 0],\n",
    "    [0, 1, 0, 2, 2, 0, 2, 0, 0]\n",
    "])\n",
    "matrix"
   ]
  },
  {
   "cell_type": "code",
   "execution_count": 31,
   "metadata": {},
   "outputs": [
    {
     "data": {
      "text/plain": [
       "[{0, 1, 3, 4, 6, 7},\n",
       " {0},\n",
       " {0, 1, 4, 5, 6, 7},\n",
       " {0, 1, 3, 4, 6, 8},\n",
       " {0, 2, 6},\n",
       " {0, 1, 4, 6},\n",
       " {0, 1, 3, 4, 6, 7},\n",
       " {0, 1, 4, 5, 6, 7},\n",
       " {0, 1, 3, 4, 6},\n",
       " {1, 3, 4, 6, 7},\n",
       " {1, 3, 4, 5, 6},\n",
       " {1, 3, 7, 8},\n",
       " {1, 2, 3, 4, 7},\n",
       " {1, 3, 4, 6, 7},\n",
       " {1, 4, 6},\n",
       " {3, 4, 5, 6},\n",
       " {3, 4, 6, 7},\n",
       " {1, 4, 5, 6, 7},\n",
       " {1, 3, 4, 6, 8},\n",
       " {2, 6},\n",
       " {1, 4, 6},\n",
       " {1, 3, 4, 6, 7},\n",
       " {1, 4, 5, 6, 7},\n",
       " {1, 3, 4, 6},\n",
       " {3, 4, 5, 6, 7, 8},\n",
       " {1, 2, 4, 5, 6, 7},\n",
       " {5, 7},\n",
       " {3, 5},\n",
       " {1},\n",
       " {1, 3, 5, 7},\n",
       " {1, 2, 3, 4, 8},\n",
       " {3, 4, 6, 8},\n",
       " {3, 4, 6, 7, 8},\n",
       " {1, 3, 4, 5, 6, 7, 8},\n",
       " {1, 4, 6, 8},\n",
       " {1, 2, 4, 6},\n",
       " {1, 2, 3, 4, 6, 7},\n",
       " {1, 2, 4, 5, 6, 7},\n",
       " {1, 2, 3, 4, 6},\n",
       " {3, 7},\n",
       " {1, 5, 7},\n",
       " {1, 3},\n",
       " {1, 3, 5},\n",
       " {1, 3, 7},\n",
       " {3, 5, 7}]"
      ]
     },
     "execution_count": 31,
     "metadata": {},
     "output_type": "execute_result"
    }
   ],
   "source": [
    "nums_row = matrix.shape[0]\n",
    "diff_columns = []\n",
    "\n",
    "for i in range(nums_row):\n",
    "    for j in range(i+1, nums_row):\n",
    "        diff_columns.append(set(np.where(matrix[i] != matrix[j])[0]))\n",
    "\n",
    "diff_columns"
   ]
  },
  {
   "cell_type": "code",
   "execution_count": 76,
   "metadata": {},
   "outputs": [
    {
     "name": "stdout",
     "output_type": "stream",
     "text": [
      "0\n"
     ]
    }
   ],
   "source": [
    "nums_row = matrix.shape[0]\n",
    "diff_columns = []\n",
    "filter_col = [0, 1, 3, 6, 7] # 2 5 6 7\n",
    "\n",
    "for i in range(nums_row):\n",
    "    for j in range(i+1, nums_row):\n",
    "        diff_columns.append(set(np.where(matrix[i, filter_col] != matrix[j, filter_col])[0]))\n",
    "\n",
    "counts = 0\n",
    "for i in diff_columns:\n",
    "    if not i:\n",
    "        counts += 1\n",
    "print(counts)"
   ]
  },
  {
   "cell_type": "code",
   "execution_count": 23,
   "metadata": {},
   "outputs": [
    {
     "name": "stdout",
     "output_type": "stream",
     "text": [
      "1 {0}\n",
      "28 {1}\n"
     ]
    }
   ],
   "source": [
    "for i in range(len(diff_columns)):\n",
    "    if len(diff_columns[i]) == 1:\n",
    "        print(i, diff_columns[i])"
   ]
  },
  {
   "cell_type": "code",
   "execution_count": 154,
   "metadata": {},
   "outputs": [
    {
     "data": {
      "text/plain": [
       "array([[0.9  , 0.818, 0.   , 0.3  , 0.   ],\n",
       "       [0.   , 0.219, 0.267, 0.   , 0.816],\n",
       "       [0.   , 0.713, 0.   , 0.35 , 0.   ],\n",
       "       [0.   , 0.   , 0.   , 0.9  , 0.681],\n",
       "       [0.   , 0.   , 0.718, 0.   , 0.   ],\n",
       "       [0.   , 0.674, 0.   , 0.   , 0.   ],\n",
       "       [0.   , 0.   , 0.   , 0.9  , 0.   ],\n",
       "       [0.   , 0.   , 0.416, 0.9  , 0.759],\n",
       "       [0.   , 0.149, 0.   , 0.75 , 0.721],\n",
       "       [0.   , 0.2  , 0.6  , 0.9  , 0.   ]])"
      ]
     },
     "execution_count": 154,
     "metadata": {},
     "output_type": "execute_result"
    }
   ],
   "source": [
    "intensity = np.array([\n",
    "    [0.90, 0.818, np.nan, np.nan, 0.189, np.nan, 0.30,  np.nan, np.nan],\n",
    "    [np.nan, 0.219, np.nan, 0.267, np.nan, np.nan, np.nan, 0.816, np.nan],\n",
    "    [np.nan, 0.713, np.nan, np.nan, 0.289, np.nan, 0.35,  np.nan, np.nan],\n",
    "    [np.nan, np.nan, np.nan, np.nan, 0.515, 0.80,  0.90,  0.681, np.nan],\n",
    "    [np.nan, np.nan, np.nan, 0.718, np.nan, np.nan, np.nan, np.nan, 0.75 ],\n",
    "    [np.nan, 0.674, 0.87,  np.nan, 0.231, np.nan, np.nan, np.nan, np.nan],\n",
    "    [np.nan, np.nan, np.nan, np.nan, 0.863, np.nan, 0.90, np.nan, np.nan],\n",
    "    [np.nan, np.nan, np.nan, 0.416, 0.879, np.nan, 0.90,  0.759, np.nan],\n",
    "    [np.nan, 0.149, np.nan, np.nan, 0.681, 0.80,  0.75,  0.721, np.nan],\n",
    "    [np.nan, 0.20,  np.nan, 0.60,  0.70,  np.nan, 0.90,  np.nan, np.nan]\n",
    "])\n",
    "intensity = np.nan_to_num(intensity[:, [0, 1, 3, 6, 7]], nan=0.0)\n",
    "intensity"
   ]
  },
  {
   "cell_type": "code",
   "execution_count": 155,
   "metadata": {},
   "outputs": [
    {
     "data": {
      "text/plain": [
       "array([0.2271, 0.0527, 0.0629, 0.0612, 0.0506, 0.1317, 0.0798, 0.1421,\n",
       "       0.1202, 0.0717])"
      ]
     },
     "execution_count": 155,
     "metadata": {},
     "output_type": "execute_result"
    }
   ],
   "source": [
    "prior_prob = np.array([0.2271, 0.0527, 0.0629, 0.0612, 0.0506, 0.1317, 0.0798, 0.1421, 0.1202, 0.0717])\n",
    "prior_prob"
   ]
  },
  {
   "cell_type": "code",
   "execution_count": 156,
   "metadata": {},
   "outputs": [
    {
     "data": {
      "text/plain": [
       "array([[0.818],\n",
       "       [0.219],\n",
       "       [0.713],\n",
       "       [0.   ],\n",
       "       [0.   ],\n",
       "       [0.674],\n",
       "       [0.   ],\n",
       "       [0.   ],\n",
       "       [0.149],\n",
       "       [0.2  ]])"
      ]
     },
     "execution_count": 156,
     "metadata": {},
     "output_type": "execute_result"
    }
   ],
   "source": [
    "intensity_mplus = intensity[:, 1].reshape(-1, 1)\n",
    "intensity_mplus"
   ]
  },
  {
   "cell_type": "code",
   "execution_count": 157,
   "metadata": {},
   "outputs": [
    {
     "data": {
      "text/plain": [
       "array([[0.1  , 1.   , 0.7  , 1.   ],\n",
       "       [1.   , 0.733, 1.   , 0.184],\n",
       "       [1.   , 1.   , 0.65 , 1.   ],\n",
       "       [1.   , 1.   , 0.1  , 0.319],\n",
       "       [1.   , 0.282, 1.   , 1.   ],\n",
       "       [1.   , 1.   , 1.   , 1.   ],\n",
       "       [1.   , 1.   , 0.1  , 1.   ],\n",
       "       [1.   , 0.584, 0.1  , 0.241],\n",
       "       [1.   , 1.   , 0.25 , 0.279],\n",
       "       [1.   , 0.4  , 0.1  , 1.   ]])"
      ]
     },
     "execution_count": 157,
     "metadata": {},
     "output_type": "execute_result"
    }
   ],
   "source": [
    "intensity_mminus = 1 - intensity[:, [i for i in range(intensity.shape[1]) if i != 1]]\n",
    "intensity_mminus"
   ]
  },
  {
   "cell_type": "code",
   "execution_count": 167,
   "metadata": {},
   "outputs": [
    {
     "data": {
      "text/plain": [
       "array([0.013 , 0.0016, 0.0292, 0.    , 0.    , 0.0888, 0.    , 0.    ,\n",
       "       0.0012, 0.0006])"
      ]
     },
     "execution_count": 167,
     "metadata": {},
     "output_type": "execute_result"
    }
   ],
   "source": [
    "results = np.cumprod(intensity_mplus, axis=1)[:, -1] * np.nancumprod(intensity_mminus, axis=1)[:, -1] * prior_prob\n",
    "# results /= np.nansum(results)\n",
    "results.round(4)"
   ]
  },
  {
   "cell_type": "code",
   "execution_count": 1,
   "metadata": {},
   "outputs": [
    {
     "data": {
      "text/plain": [
       "2"
      ]
     },
     "execution_count": 1,
     "metadata": {},
     "output_type": "execute_result"
    }
   ],
   "source": [
    "5 // 2"
   ]
  }
 ],
 "metadata": {
  "kernelspec": {
   "display_name": "deep_learning",
   "language": "python",
   "name": "python3"
  },
  "language_info": {
   "codemirror_mode": {
    "name": "ipython",
    "version": 3
   },
   "file_extension": ".py",
   "mimetype": "text/x-python",
   "name": "python",
   "nbconvert_exporter": "python",
   "pygments_lexer": "ipython3",
   "version": "3.9.20"
  }
 },
 "nbformat": 4,
 "nbformat_minor": 2
}
